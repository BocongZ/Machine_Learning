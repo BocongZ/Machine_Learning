{
 "cells": [
  {
   "cell_type": "code",
   "execution_count": 1,
   "metadata": {},
   "outputs": [],
   "source": [
    "import sys\n",
    "import os\n",
    "import random\n",
    "import collections\n",
    "import numpy as np\n",
    "import lightgbm as lgb\n",
    "import pandas as pd\n"
   ]
  },
  {
   "cell_type": "code",
   "execution_count": 2,
   "metadata": {},
   "outputs": [
    {
     "name": "stdout",
     "output_type": "stream",
     "text": [
      "<class 'lightgbm.basic.Booster'>\n",
      "<class 'dict'>\n",
      "32\n",
      "{'tree_index': 1, 'num_leaves': 30, 'num_cat': 15, 'shrinkage': 0.05, 'tree_structure': {'split_index': 0, 'split_feature': 0, 'split_gain': 25220, 'threshold': 1.0000000180025095e-35, 'decision_type': '<=', 'default_left': True, 'missing_type': 'None', 'internal_value': 0, 'internal_count': 719992, 'left_child': {'split_index': 2, 'split_feature': 6, 'split_gain': 7863.419921875, 'threshold': 0.025000000000000005, 'decision_type': '<=', 'default_left': True, 'missing_type': 'None', 'internal_value': -0.295885, 'internal_count': 491927, 'left_child': {'split_index': 6, 'split_feature': 30, 'split_gain': 2139.830078125, 'threshold': '40||60||80||91||101||150||181||185||191||208||209||211||231||238||244||250||280||288||326||334||344||351||356||364||378||383||391||400||407||477||574', 'decision_type': '==', 'default_left': False, 'missing_type': 'Zero', 'internal_value': -0.531481, 'internal_count': 298988, 'left_child': {'leaf_index': 0, 'leaf_value': 0.03715574636683962, 'leaf_count': 6626}, 'right_child': {'split_index': 8, 'split_feature': 25, 'split_gain': 1583.81005859375, 'threshold': '16||19||57||83||88||90||104||139||172||193||195||196||212||236||290||334||337||342||371||387||393||414||452||507||528||559||594||777||786||838||854', 'decision_type': '==', 'default_left': False, 'missing_type': 'Zero', 'internal_value': -0.561317, 'internal_count': 292362, 'left_child': {'leaf_index': 7, 'leaf_value': 0.03216854600874771, 'leaf_count': 5568}, 'right_child': {'split_index': 11, 'split_feature': 30, 'split_gain': 1382.72998046875, 'threshold': '9||26||38||43||44||51||56||59||62||83||87||94||103||104||118||127||128||159||174||182||212||217||223||224||236||241||306||332||349||395||459||548', 'decision_type': '==', 'default_left': False, 'missing_type': 'Zero', 'internal_value': -0.585308, 'internal_count': 286794, 'left_child': {'leaf_index': 9, 'leaf_value': -0.05287602124855284, 'leaf_count': 30041}, 'right_child': {'split_index': 12, 'split_feature': 7, 'split_gain': 1270.449951171875, 'threshold': 0.05000000000000001, 'decision_type': '<=', 'default_left': True, 'missing_type': 'None', 'internal_value': -0.530437, 'internal_count': 256753, 'left_child': {'split_index': 19, 'split_feature': 6, 'split_gain': 825.718994140625, 'threshold': 1.0000000180025095e-35, 'decision_type': '<=', 'default_left': True, 'missing_type': 'None', 'internal_value': -0.30318, 'internal_count': 86353, 'left_child': {'leaf_index': 12, 'leaf_value': -0.0226286809856547, 'leaf_count': 60250}, 'right_child': {'leaf_index': 20, 'leaf_value': 0.0018278479032145846, 'leaf_count': 26103}}, 'right_child': {'split_index': 24, 'split_feature': 26, 'split_gain': 545.2369995117188, 'threshold': '4||11||14||18||20||23', 'decision_type': '==', 'default_left': False, 'missing_type': 'None', 'internal_value': -0.646636, 'internal_count': 170400, 'left_child': {'leaf_index': 13, 'leaf_value': -0.00502090489145893, 'leaf_count': 9280}, 'right_child': {'split_index': 27, 'split_feature': 6, 'split_gain': 449.2229919433594, 'threshold': 1.0000000180025095e-35, 'decision_type': '<=', 'default_left': True, 'missing_type': 'None', 'internal_value': -0.678041, 'internal_count': 161120, 'left_child': {'leaf_index': 25, 'leaf_value': -0.03875673007769906, 'leaf_count': 99209}, 'right_child': {'split_index': 28, 'split_feature': 5, 'split_gain': 449.4729919433594, 'threshold': 0.081, 'decision_type': '<=', 'default_left': True, 'missing_type': 'None', 'internal_value': -0.524289, 'internal_count': 61911, 'left_child': {'leaf_index': 28, 'leaf_value': -0.011364190160698725, 'leaf_count': 18711}, 'right_child': {'leaf_index': 29, 'leaf_value': -0.03272038378621014, 'leaf_count': 43200}}}}}}}}, 'right_child': {'split_index': 3, 'split_feature': 5, 'split_gain': 4627.56005859375, 'threshold': 0.06700000000000002, 'decision_type': '<=', 'default_left': True, 'missing_type': 'None', 'internal_value': 0.0640084, 'internal_count': 192939, 'left_child': {'split_index': 14, 'split_feature': 25, 'split_gain': 1230.8599853515625, 'threshold': '16||17||19||21||56||57||62||65||83||84||87||88||90||92||96||101||104||136||139||143||172||193||195||212||226||281||320||342||404||445||594', 'decision_type': '==', 'default_left': False, 'missing_type': 'Zero', 'internal_value': 0.5911, 'internal_count': 59535, 'left_child': {'leaf_index': 3, 'leaf_value': 0.08092657490254823, 'leaf_count': 5380}, 'right_child': {'split_index': 17, 'split_feature': 2, 'split_gain': 868.1090087890625, 'threshold': 0.05500000000000001, 'decision_type': '<=', 'default_left': True, 'missing_type': 'None', 'internal_value': 0.485191, 'internal_count': 54155, 'left_child': {'split_index': 23, 'split_feature': 16, 'split_gain': 574.1060180664062, 'threshold': '5||8||19||24||36||44||47||56||59||61||68||72||75||76||80||81||95||98||100||103||125||135||149||186||197||204||246||302||365||425', 'decision_type': '==', 'default_left': False, 'missing_type': 'Zero', 'internal_value': 0.650202, 'internal_count': 40796, 'left_child': {'leaf_index': 15, 'leaf_value': 0.07286065403428087, 'leaf_count': 4069}, 'right_child': {'leaf_index': 24, 'leaf_value': 0.02785377077067975, 'leaf_count': 36727}}, 'right_child': {'leaf_index': 18, 'leaf_value': -0.0010721957527045796, 'leaf_count': 13359}}}, 'right_child': {'split_index': 7, 'split_feature': 25, 'split_gain': 1713.75, 'threshold': '16||19||56||57||65||83||88||90||96||104||127||139||172||190||195||196||212||218||342||358||365||371||381||393||404||414||420||445||498||507||594||678', 'decision_type': '==', 'default_left': False, 'missing_type': 'Zero', 'internal_value': -0.17527, 'internal_count': 133404, 'left_child': {'leaf_index': 4, 'leaf_value': 0.05003307416371059, 'leaf_count': 6024}, 'right_child': {'split_index': 16, 'split_feature': 16, 'split_gain': 1031.8299560546875, 'threshold': '5||8||47||56||59||68||72||75||76||80||81||100||103||122||144||186||197||204||235||246||256||262||263||268||280||302||303||325||327||347||391||445', 'decision_type': '==', 'default_left': False, 'missing_type': 'Zero', 'internal_value': -0.232863, 'internal_count': 127380, 'left_child': {'leaf_index': 8, 'leaf_value': 0.039236277552090325, 'leaf_count': 4966}, 'right_child': {'split_index': 18, 'split_feature': 26, 'split_gain': 841.458984375, 'threshold': '4||6||11||14||17||20', 'decision_type': '==', 'default_left': False, 'missing_type': 'None', 'internal_value': -0.274918, 'internal_count': 122414, 'left_child': {'leaf_index': 17, 'leaf_value': 0.016376818710780446, 'leaf_count': 11062}, 'right_child': {'split_index': 22, 'split_feature': 30, 'split_gain': 662.2830200195312, 'threshold': '23||42||47||80||81||98||100||165||233||240||248||259||263||272||276||280||288||292||297||301||307||334||335||356||378||383||385||386||440||471||478||528', 'decision_type': '==', 'default_left': False, 'missing_type': 'Zero', 'internal_value': -0.335291, 'internal_count': 111352, 'left_child': {'leaf_index': 19, 'leaf_value': 0.02706164978454836, 'leaf_count': 4309}, 'right_child': {'split_index': 25, 'split_feature': 28, 'split_gain': 519.4660034179688, 'threshold': '2||4||6||7||8||19||23||25||26||29||31||33||35||42||62||64||71||81||92||97||98||100||110||145||152||182||197||203||219||239||292', 'decision_type': '==', 'default_left': False, 'missing_type': 'Zero', 'internal_value': -0.371182, 'internal_count': 107043, 'left_child': {'leaf_index': 23, 'leaf_value': -0.03841447012817953, 'leaf_count': 15044}, 'right_child': {'split_index': 26, 'split_feature': 12, 'split_gain': 459.8380126953125, 'threshold': 0.09000000000000001, 'decision_type': '<=', 'default_left': True, 'missing_type': 'None', 'internal_value': -0.305968, 'internal_count': 91999, 'left_child': {'leaf_index': 26, 'leaf_value': -0.008157137832670835, 'leaf_count': 51780}, 'right_child': {'leaf_index': 27, 'leaf_value': -0.02456889743712227, 'leaf_count': 40219}}}}}}}}}, 'right_child': {'split_index': 1, 'split_feature': 5, 'split_gain': 10988.400390625, 'threshold': 0.013000000000000001, 'decision_type': '<=', 'default_left': True, 'missing_type': 'None', 'internal_value': 0.62363, 'internal_count': 228065, 'left_child': {'split_index': 4, 'split_feature': 25, 'split_gain': 4187.64013671875, 'threshold': '2||9||16||17||19||21||42||56||57||65||68||83||87||88||90||91||96||99||104||136||139||172||193||195||212||342||371||393||404||414||505||507', 'decision_type': '==', 'default_left': False, 'missing_type': 'Zero', 'internal_value': 1.18733, 'internal_count': 98985, 'left_child': {'leaf_index': 1, 'leaf_value': 0.10902347071373791, 'leaf_count': 17445}, 'right_child': {'split_index': 10, 'split_feature': 16, 'split_gain': 1397.9200439453125, 'threshold': '5||8||19||22||24||44||47||56||57||59||61||68||72||75||76||80||98||100||135||140||155||186||195||197||204||236||242||256||268||421', 'decision_type': '==', 'default_left': False, 'missing_type': 'Zero', 'internal_value': 0.967306, 'internal_count': 81540, 'left_child': {'leaf_index': 5, 'leaf_value': 0.09735490500012983, 'leaf_count': 6847}, 'right_child': {'split_index': 15, 'split_feature': 6, 'split_gain': 1054.3900146484375, 'threshold': 0.03500000000000001, 'decision_type': '<=', 'default_left': True, 'missing_type': 'None', 'internal_value': 0.875777, 'internal_count': 74693, 'left_child': {'leaf_index': 11, 'leaf_value': 0.0247671792937024, 'leaf_count': 25040}, 'right_child': {'split_index': 21, 'split_feature': 4, 'split_gain': 782.6160278320312, 'threshold': 7.050000000000002e-05, 'decision_type': '<=', 'default_left': True, 'missing_type': 'None', 'internal_value': 1.06678, 'internal_count': 49653, 'left_child': {'leaf_index': 16, 'leaf_value': 0.07416272995783567, 'leaf_count': 15689}, 'right_child': {'leaf_index': 22, 'leaf_value': 0.04364382116541276, 'leaf_count': 33964}}}}}, 'right_child': {'split_index': 5, 'split_feature': 25, 'split_gain': 3286.239990234375, 'threshold': '16||17||19||20||21||42||56||57||65||68||83||87||88||90||96||104||127||136||139||190||193||195||196||212||334||342||371||393||404||414||505||507', 'decision_type': '==', 'default_left': False, 'missing_type': 'Zero', 'internal_value': 0.180302, 'internal_count': 129080, 'left_child': {'leaf_index': 2, 'leaf_value': 0.06501779680572609, 'leaf_count': 12075}, 'right_child': {'split_index': 9, 'split_feature': 16, 'split_gain': 1506.0899658203125, 'threshold': '5||8||24||44||47||56||59||61||68||72||75||76||80||95||98||100||140||155||185||186||197||198||236||238||262||268||270||300||327||375||401', 'decision_type': '==', 'default_left': False, 'missing_type': 'Zero', 'internal_value': 0.0610394, 'internal_count': 117005, 'left_child': {'leaf_index': 6, 'leaf_value': 0.06261342651130988, 'leaf_count': 5198}, 'right_child': {'split_index': 13, 'split_feature': 6, 'split_gain': 1239.1600341796875, 'threshold': 0.05500000000000001, 'decision_type': '<=', 'default_left': True, 'missing_type': 'None', 'internal_value': 0.00425247, 'internal_count': 111807, 'left_child': {'leaf_index': 10, 'leaf_value': -0.012997916940362628, 'leaf_count': 51090}, 'right_child': {'split_index': 20, 'split_feature': 12, 'split_gain': 785.010009765625, 'threshold': 0.19000000000000003, 'decision_type': '<=', 'default_left': True, 'missing_type': 'None', 'internal_value': 0.224935, 'internal_count': 60717, 'left_child': {'leaf_index': 14, 'leaf_value': 0.021821011498517985, 'leaf_count': 36429}, 'right_child': {'leaf_index': 21, 'leaf_value': -0.004780164566157411, 'leaf_count': 24288}}}}}}}}\n"
     ]
    }
   ],
   "source": [
    "\"\"\"\n",
    "GBDT已经训练好了，我们需要GBDT输出的叶子节点作为输入数据X传给FM，一共30个叶子节点（32颗树 如何利用输出的结果）\n",
    "\n",
    "那么输入给FM的数据格式就是X中不是0的数据的index:value。（零值对于训练不起作用， Wij需要两个都是非零值数据量更小，所以对于FM公式化简）\n",
    "val是树的节点index\n",
    "一段真实数据如下：0 0:31 1:61 2:93 3:108 4:149 5:182 6:212 7:242 8:277 9:310 10:334 11:365 12:401 13:434 14:465 15:491 16:527 17:552 18:589 19:619 20:648 21:678 22:697 23:744 24:770 25:806 26:826 27:862 28:899 29:928 30:955 31:988\n",
    "\"\"\"\n",
    "\n",
    "import pickle\n",
    "with open(\"/media/data/cuixuange/Criteo_dataset/model/gbm_dump.p\", 'rb') as pickle_file:\n",
    "    gradientBoostModel,parameter_dump = pickle.load(pickle_file)\n",
    "print(type(gradientBoostModel))\n",
    "print(type(parameter_dump))\n",
    "\n",
    "#  # gbdt_model中的参数信息？？ \n",
    "print(len(parameter_dump[\"tree_info\"]))   #32棵树即 32轮基学习器的迭代次数\n",
    "print(parameter_dump[\"tree_info\"][1])\n"
   ]
  },
  {
   "cell_type": "code",
   "execution_count": 3,
   "metadata": {},
   "outputs": [],
   "source": [
    "def generat_lgb2fm_data(outdir, gbm, dump, tr_path, va_path, te_path, _sep = '\\t'):\n",
    "    \"\"\"\n",
    "gbmodel paramter_dump tr_path va_path te_path都是输入的数据\n",
    "    \"\"\"\n",
    "    \"\"\"\n",
    "设置参数pred_leaf=true的作用\n",
    "the output will be a matrix of (nsample, ntrees) with each record indicating the predicted leaf index of each sample in each tree\n",
    "    \"\"\"\n",
    "    with open(os.path.join(outdir, 'train_lgb2fm.txt'), 'w') as out_train:\n",
    "        with open(os.path.join(outdir, 'valid_lgb2fm.txt'), 'w') as out_valid:\n",
    "            with open(os.path.join(outdir, 'test_lgb2fm.txt'), 'w') as out_test:\n",
    "                df_train_ = pd.read_csv(tr_path, header=None, sep=_sep)\n",
    "                df_valid_ = pd.read_csv(va_path, header=None, sep=_sep)\n",
    "                df_test_= pd.read_csv(te_path, header=None, sep=_sep)\n",
    "\n",
    "                y_train_ = df_train_[0].values\n",
    "                y_valid_ = df_valid_[0].values                \n",
    "\n",
    "                X_train_ = df_train_.drop(0, axis=1).values\n",
    "                X_valid_ = df_valid_.drop(0, axis=1).values\n",
    "                X_test_= df_test_.values\n",
    "                \n",
    "                train_leaves= gbm.predict(X_train_, num_iteration=gbm.best_iteration, pred_leaf=True)\n",
    "                valid_leaves= gbm.predict(X_valid_, num_iteration=gbm.best_iteration, pred_leaf=True)\n",
    "                print(valid_leaves.shape)\n",
    "                test_leaves= gbm.predict(X_test_, num_iteration=gbm.best_iteration, pred_leaf=True)\n",
    "\n",
    "                tree_info = dump['tree_info']\n",
    "                tree_counts = len(tree_info)\n",
    "                for i in range(tree_counts):\n",
    "                    train_leaves[:, i] = train_leaves[:, i] + tree_info[i]['num_leaves'] * i + 1\n",
    "                    \n",
    "    ######每次基学习器输出的就是一个one-hot变量 只有一个节点是有值的\n",
    "#                     print(valid_leaves[0, i],valid_leaves[0, i],tree_info[i]['num_leaves'] * i + 1)\n",
    "                    valid_leaves[:, i] = valid_leaves[:, i] + tree_info[i]['num_leaves'] * i + 1\n",
    "                    \n",
    "                    test_leaves[:, i] = test_leaves[:, i] + tree_info[i]['num_leaves'] * i + 1\n",
    "#                     print(train_leaves[:, i])\n",
    "#                     print(tree_info[i]['num_leaves'])\n",
    "\n",
    "\n",
    "\n",
    "\n",
    "\n",
    "#                 print(valid_leaves.shape)\n",
    "                for idx in range(len(y_train_)):            \n",
    "                    out_train.write((str(y_train_[idx]) + '\\t'))  #label\n",
    "                    out_train.write('\\t'.join(\n",
    "                        ['{}:{}'.format(ii, val) for ii,val in enumerate(train_leaves[idx]) if float(val) != 0 ]) + '\\n')\n",
    "                    \n",
    "                for idx in range(len(y_valid_)):                   \n",
    "                    out_valid.write((str(y_valid_[idx]) + '\\t'))\n",
    "                    out_valid.write('\\t'.join(\n",
    "                        ['{}:{}'.format(ii, val) for ii,val in enumerate(valid_leaves[idx]) if float(val) != 0 ]) + '\\n')\n",
    "                    \n",
    "                for idx in range(len(X_test_)):                   \n",
    "                    out_test.write('\\t'.join(\n",
    "                        ['{}:{}'.format(ii, val) for ii,val in enumerate(test_leaves[idx]) if float(val) != 0 ]) + '\\n')"
   ]
  },
  {
   "cell_type": "code",
   "execution_count": 4,
   "metadata": {},
   "outputs": [
    {
     "name": "stdout",
     "output_type": "stream",
     "text": [
      "(100009, 32)\n",
      "32\n"
     ]
    }
   ],
   "source": [
    "preprocess_data_dir = \"/media/data/cuixuange/Criteo_dataset/preprocess_data/\"\n",
    "generat_lgb2fm_data(preprocess_data_dir, gradientBoostModel, parameter_dump, preprocess_data_dir+'train_lgb.txt',\n",
    "                    preprocess_data_dir+'valid_lgb.txt', preprocess_data_dir+'test_lgb.txt', '\\t')\n",
    "\n",
    "print(gradientBoostModel.best_iteration)"
   ]
  },
  {
   "cell_type": "code",
   "execution_count": 5,
   "metadata": {},
   "outputs": [
    {
     "name": "stdout",
     "output_type": "stream",
     "text": [
      "/media/data/cuixuange/Criteo_dataset/Origincode_and_bin/kaggle_criteo_ctr_challenge-/libfm/libfm//bin/libFM -task c -train /media/data/cuixuange/Criteo_dataset/preprocess_data/train_lgb2fm.txt -test /media/data/cuixuange/Criteo_dataset/preprocess_data//valid_lgb2fm.txt -dim ’1,1,8’ -iter 64 -method sgd -learn_rate 0.00000001 -regular ’0,0,0.01’ -init_stdev 0.1 -save_model fm_model\n"
     ]
    },
    {
     "data": {
      "text/plain": [
       "['----------------------------------------------------------------------------\\n',\n",
       " 'libFM\\n',\n",
       " '  Version: 1.4.4\\n',\n",
       " '  Author:  Steffen Rendle, srendle@libfm.org\\n',\n",
       " '  WWW:     http://www.libfm.org/\\n',\n",
       " 'This program comes with ABSOLUTELY NO WARRANTY; for details see license.txt.\\n',\n",
       " 'This is free software, and you are welcome to redistribute it under certain\\n',\n",
       " 'conditions; for details see license.txt.\\n',\n",
       " '----------------------------------------------------------------------------\\n',\n",
       " 'Loading train...\\t\\n',\n",
       " 'has x = 1\\n',\n",
       " 'has xt = 0\\n',\n",
       " 'num_rows=899991\\tnum_values=28799712\\tnum_features=32\\tmin_target=0\\tmax_target=1\\n',\n",
       " 'Loading test... \\t\\n',\n",
       " 'has x = 1\\n',\n",
       " 'has xt = 0\\n',\n",
       " 'num_rows=100009\\tnum_values=3200288\\tnum_features=32\\tmin_target=0\\tmax_target=1\\n',\n",
       " '#relations: 0\\n',\n",
       " 'Loading meta data...\\t\\n',\n",
       " 'learnrate=1e-08\\n',\n",
       " 'learnrates=1e-08,1e-08,1e-08\\n',\n",
       " '#iterations=64\\n',\n",
       " \"SGD: DON'T FORGET TO SHUFFLE THE ROWS IN TRAINING DATA TO GET THE BEST RESULTS.\\n\",\n",
       " '#Iter=  0\\tTrain=0.716478\\tTest=0.713126\\n',\n",
       " '#Iter=  1\\tTrain=0.547181\\tTest=0.543761\\n',\n",
       " '#Iter=  2\\tTrain=0.324393\\tTest=0.323731\\n',\n",
       " '#Iter=  3\\tTrain=0.350066\\tTest=0.349629\\n',\n",
       " '#Iter=  4\\tTrain=0.43649\\tTest=0.434251\\n',\n",
       " '#Iter=  5\\tTrain=0.496445\\tTest=0.493556\\n',\n",
       " '#Iter=  6\\tTrain=0.542497\\tTest=0.539771\\n',\n",
       " '#Iter=  7\\tTrain=0.5706\\tTest=0.567979\\n',\n",
       " '#Iter=  8\\tTrain=0.592313\\tTest=0.589517\\n',\n",
       " '#Iter=  9\\tTrain=0.614006\\tTest=0.610265\\n',\n",
       " '#Iter= 10\\tTrain=0.634636\\tTest=0.629703\\n',\n",
       " '#Iter= 11\\tTrain=0.652299\\tTest=0.647802\\n',\n",
       " '#Iter= 12\\tTrain=0.668108\\tTest=0.6627\\n',\n",
       " '#Iter= 13\\tTrain=0.680789\\tTest=0.675019\\n',\n",
       " '#Iter= 14\\tTrain=0.691447\\tTest=0.685688\\n',\n",
       " '#Iter= 15\\tTrain=0.700793\\tTest=0.695617\\n',\n",
       " '#Iter= 16\\tTrain=0.708944\\tTest=0.704457\\n',\n",
       " '#Iter= 17\\tTrain=0.715943\\tTest=0.711476\\n',\n",
       " '#Iter= 18\\tTrain=0.722287\\tTest=0.717825\\n',\n",
       " '#Iter= 19\\tTrain=0.72783\\tTest=0.723615\\n',\n",
       " '#Iter= 20\\tTrain=0.732858\\tTest=0.728644\\n',\n",
       " '#Iter= 21\\tTrain=0.737131\\tTest=0.732704\\n',\n",
       " '#Iter= 22\\tTrain=0.740706\\tTest=0.736194\\n',\n",
       " '#Iter= 23\\tTrain=0.74366\\tTest=0.739693\\n',\n",
       " '#Iter= 24\\tTrain=0.746277\\tTest=0.742203\\n',\n",
       " '#Iter= 25\\tTrain=0.748619\\tTest=0.744903\\n',\n",
       " '#Iter= 26\\tTrain=0.75036\\tTest=0.747093\\n',\n",
       " '#Iter= 27\\tTrain=0.751952\\tTest=0.749063\\n',\n",
       " '#Iter= 28\\tTrain=0.753355\\tTest=0.750432\\n',\n",
       " '#Iter= 29\\tTrain=0.754305\\tTest=0.751432\\n',\n",
       " '#Iter= 30\\tTrain=0.755235\\tTest=0.752222\\n',\n",
       " '#Iter= 31\\tTrain=0.75604\\tTest=0.753042\\n',\n",
       " '#Iter= 32\\tTrain=0.756703\\tTest=0.753892\\n',\n",
       " '#Iter= 33\\tTrain=0.75728\\tTest=0.754742\\n',\n",
       " '#Iter= 34\\tTrain=0.757693\\tTest=0.755392\\n',\n",
       " '#Iter= 35\\tTrain=0.758159\\tTest=0.755402\\n',\n",
       " '#Iter= 36\\tTrain=0.7585\\tTest=0.755862\\n',\n",
       " '#Iter= 37\\tTrain=0.758823\\tTest=0.756122\\n',\n",
       " '#Iter= 38\\tTrain=0.759019\\tTest=0.756362\\n',\n",
       " '#Iter= 39\\tTrain=0.75918\\tTest=0.756702\\n',\n",
       " '#Iter= 40\\tTrain=0.759424\\tTest=0.756762\\n',\n",
       " '#Iter= 41\\tTrain=0.75959\\tTest=0.757002\\n',\n",
       " '#Iter= 42\\tTrain=0.759725\\tTest=0.757142\\n',\n",
       " '#Iter= 43\\tTrain=0.759901\\tTest=0.757362\\n',\n",
       " '#Iter= 44\\tTrain=0.760035\\tTest=0.757422\\n',\n",
       " '#Iter= 45\\tTrain=0.76013\\tTest=0.757632\\n',\n",
       " '#Iter= 46\\tTrain=0.76021\\tTest=0.757732\\n',\n",
       " '#Iter= 47\\tTrain=0.760314\\tTest=0.757892\\n',\n",
       " '#Iter= 48\\tTrain=0.760419\\tTest=0.757922\\n',\n",
       " '#Iter= 49\\tTrain=0.760539\\tTest=0.757952\\n',\n",
       " '#Iter= 50\\tTrain=0.760623\\tTest=0.758042\\n',\n",
       " '#Iter= 51\\tTrain=0.760702\\tTest=0.758172\\n',\n",
       " '#Iter= 52\\tTrain=0.76076\\tTest=0.758302\\n',\n",
       " '#Iter= 53\\tTrain=0.760832\\tTest=0.758352\\n',\n",
       " '#Iter= 54\\tTrain=0.76087\\tTest=0.758402\\n',\n",
       " '#Iter= 55\\tTrain=0.760925\\tTest=0.758442\\n',\n",
       " '#Iter= 56\\tTrain=0.760988\\tTest=0.758462\\n',\n",
       " '#Iter= 57\\tTrain=0.761032\\tTest=0.758462\\n',\n",
       " '#Iter= 58\\tTrain=0.761085\\tTest=0.758372\\n',\n",
       " '#Iter= 59\\tTrain=0.761122\\tTest=0.758342\\n',\n",
       " '#Iter= 60\\tTrain=0.76115\\tTest=0.758462\\n',\n",
       " '#Iter= 61\\tTrain=0.76119\\tTest=0.758432\\n',\n",
       " '#Iter= 62\\tTrain=0.761232\\tTest=0.758502\\n',\n",
       " '#Iter= 63\\tTrain=0.761265\\tTest=0.758662\\n',\n",
       " 'Final\\tTrain=0.761265\\tTest=0.758662\\n',\n",
       " 'Writing FM model to fm_model\\n']"
      ]
     },
     "execution_count": 5,
     "metadata": {},
     "output_type": "execute_result"
    }
   ],
   "source": [
    "#fm 训练\n",
    "\n",
    "libfmDir = \"/media/data/cuixuange/Criteo_dataset/Origincode_and_bin/kaggle_criteo_ctr_challenge-/libfm/libfm/\"\n",
    "cmd = libfmDir + '/bin/libFM -task c -train '+ preprocess_data_dir + 'train_lgb2fm.txt -test '+ preprocess_data_dir + \\\n",
    "'/valid_lgb2fm.txt -dim ’1,1,8’ -iter 64 -method sgd -learn_rate 0.00000001 -regular ’0,0,0.01’ -init_stdev 0.1 -save_model fm_model'\n",
    "\n",
    "print(cmd)\n",
    "os.popen(cmd).readlines()"
   ]
  },
  {
   "cell_type": "code",
   "execution_count": null,
   "metadata": {},
   "outputs": [],
   "source": [
    "#fm get result\n",
    "# 我们把训练、验证和测试数据输入给FM，得到FM层的输出，输出的文件名为*.fm.logits\n",
    "\n",
    "libfmDir = \"/media/data/cuixuange/Criteo_dataset/Origincode_and_bin/kaggle_criteo_ctr_challenge-/libfm/libfm/\"\n",
    "cmd = libfmDir + '/bin/libFM -task c -train '+ preprocess_data_dir + 'train_lgb2fm.txt -test '+ preprocess_data_dir + \\\n",
    "'/valid_lgb2fm.txt -dim ’1,1,8’ -iter 32 -method sgd -learn_rate 0.00000001 -regular ’0,0,0.01’ -init_stdev 0.1 '+ \\\n",
    "'-load_model fm_model -train_off true -prefix tr'\n",
    "\n",
    "print(cmd)\n",
    "os.popen(cmd).readlines()"
   ]
  },
  {
   "cell_type": "code",
   "execution_count": 25,
   "metadata": {},
   "outputs": [
    {
     "name": "stdout",
     "output_type": "stream",
     "text": [
      "/media/data/cuixuange/Criteo_dataset/Origincode_and_bin/kaggle_criteo_ctr_challenge-/libfm/libfm//bin/libFM -task c -train /media/data/cuixuange/Criteo_dataset/preprocess_data/valid_lgb2fm.txt -test /media/data/cuixuange/Criteo_dataset/preprocess_data//valid_lgb2fm.txt -dim ’1,1,8’ -iter 32 -method sgd -learn_rate 0.00000001 -regular ’0,0,0.01’ -init_stdev 0.1 -load_model fm_model -train_off true -prefix va\n"
     ]
    },
    {
     "data": {
      "text/plain": [
       "['----------------------------------------------------------------------------\\n',\n",
       " 'libFM\\n',\n",
       " '  Version: 1.4.4\\n',\n",
       " '  Author:  Steffen Rendle, srendle@libfm.org\\n',\n",
       " '  WWW:     http://www.libfm.org/\\n',\n",
       " 'This program comes with ABSOLUTELY NO WARRANTY; for details see license.txt.\\n',\n",
       " 'This is free software, and you are welcome to redistribute it under certain\\n',\n",
       " 'conditions; for details see license.txt.\\n',\n",
       " '----------------------------------------------------------------------------\\n',\n",
       " 'Loading train...\\t\\n',\n",
       " 'has x = 1\\n',\n",
       " 'has xt = 0\\n',\n",
       " 'num_rows=100009\\tnum_values=3156842\\tnum_features=32\\tmin_target=0\\tmax_target=1\\n',\n",
       " 'Loading test... \\t\\n',\n",
       " 'has x = 1\\n',\n",
       " 'has xt = 0\\n',\n",
       " 'num_rows=100009\\tnum_values=3156842\\tnum_features=32\\tmin_target=0\\tmax_target=1\\n',\n",
       " '#relations: 0\\n',\n",
       " 'Loading meta data...\\t\\n',\n",
       " 'Reading FM model... \\t\\n',\n",
       " 'Final\\tTrain=0.255347\\tTest=0.255347\\n']"
      ]
     },
     "execution_count": 25,
     "metadata": {},
     "output_type": "execute_result"
    }
   ],
   "source": [
    "libfmDir = \"/media/data/cuixuange/Criteo_dataset/Origincode_and_bin/kaggle_criteo_ctr_challenge-/libfm/libfm/\"\n",
    "cmd = libfmDir + '/bin/libFM -task c -train '+ preprocess_data_dir + 'valid_lgb2fm.txt -test '+ preprocess_data_dir + \\\n",
    "'/valid_lgb2fm.txt -dim ’1,1,8’ -iter 32 -method sgd -learn_rate 0.00000001 -regular ’0,0,0.01’ -init_stdev 0.1 '+ \\\n",
    "'-load_model fm_model -train_off true -prefix va'\n",
    "\n",
    "print(cmd)\n",
    "os.popen(cmd).readlines()\n"
   ]
  },
  {
   "cell_type": "code",
   "execution_count": null,
   "metadata": {},
   "outputs": [],
   "source": [
    "libfmDir = \"/media/data/cuixuange/Criteo_dataset/Origincode_and_bin/kaggle_criteo_ctr_challenge-/libfm/libfm/\"\n",
    "cmd = libfmDir + '/bin/libFM -task c -train '+ preprocess_data_dir + 'test_lgb2fm.txt -test '+ preprocess_data_dir + \\\n",
    "'/valid_lgb2fm.txt -dim ’1,1,8’ -iter 32 -method sgd -learn_rate 0.00000001 -regular ’0,0,0.01’ -init_stdev 0.1 '+ \\\n",
    "'-load_model fm_model -train_off true -prefix te -test2predict true'\n",
    "\n",
    "print(cmd)\n",
    "os.popen(cmd).readlines()"
   ]
  }
 ],
 "metadata": {
  "kernelspec": {
   "display_name": "tendorflow",
   "language": "python",
   "name": "tendorflow"
  },
  "language_info": {
   "codemirror_mode": {
    "name": "ipython",
    "version": 3
   },
   "file_extension": ".py",
   "mimetype": "text/x-python",
   "name": "python",
   "nbconvert_exporter": "python",
   "pygments_lexer": "ipython3",
   "version": "3.6.5"
  },
  "toc": {
   "base_numbering": 1,
   "nav_menu": {},
   "number_sections": true,
   "sideBar": true,
   "skip_h1_title": false,
   "title_cell": "Table of Contents",
   "title_sidebar": "Contents",
   "toc_cell": false,
   "toc_position": {},
   "toc_section_display": true,
   "toc_window_display": false
  }
 },
 "nbformat": 4,
 "nbformat_minor": 1
}
