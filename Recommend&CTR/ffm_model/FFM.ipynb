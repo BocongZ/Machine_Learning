{
 "cells": [
  {
   "cell_type": "code",
   "execution_count": null,
   "metadata": {
    "collapsed": true
   },
   "outputs": [],
   "source": [
    "import sys\n",
    "import os\n",
    "import random\n",
    "import collections\n",
    "import numpy as np\n",
    "import lightgbm as lgb\n",
    "import pandas as pd\n",
    "import subprocess, sys, os, time\n",
    "\n",
    "NR_THREAD = 1"
   ]
  },
  {
   "cell_type": "code",
   "execution_count": null,
   "metadata": {
    "collapsed": false
   },
   "outputs": [],
   "source": [
    "# 数据准备好了，开始调用LibFFM，训练FFM模型。\n",
    "# learning rate是0.1，迭代32次，训练好后保存的模型文件是model_ffm。\n",
    "\n",
    "input_dir = \"/media/data/cuixuange/Criteo_dataset/preprocess_data/\"\n",
    "libffmDir = \"/media/data/cuixuange/Criteo_dataset/Origincode_and_bin/kaggle_criteo_ctr_challenge-/libffm/libffm/\"\n",
    "\n",
    "cmd = libffmDir + \"ffm-train --auto-stop -r 0.1 -t 32 -s {nr_thread} -p \".format(nr_thread=NR_THREAD) + \\\n",
    "input_dir + \"valid_ffm.txt \" + input_dir+\"train_ffm.txt model_ffm\"\n",
    "\n",
    "print(cmd)\n",
    "os.popen(cmd).readlines()"
   ]
  },
  {
   "cell_type": "code",
   "execution_count": null,
   "metadata": {
    "collapsed": false
   },
   "outputs": [],
   "source": [
    "\n",
    "# FFM模型训练好了，我们把训练、验证和测试数据输入给FFM，得到FFM层的输出，输出的文件名为*.out.logit\n",
    "\n",
    "cmd = libffmDir + \"ffm-predict \" + input_dir+\"train_ffm.txt model_ffm tr_ffm.out\"\n",
    "print(cmd)\n",
    "os.popen(cmd).readlines()\n",
    "\n",
    "cmd = libffmDir + \"ffm-predict \" + input_dir+\"valid_ffm.txt model_ffm va_ffm.out\"\n",
    "print(cmd)\n",
    "os.popen(cmd).readlines()\n",
    "\n",
    "cmd = libffmDir + \"ffm-predict \" + input_dir+\"test_ffm.txt model_ffm te_ffm.out true\"\n",
    "print(cmd)\n",
    "os.popen(cmd).readlines()"
   ]
  }
 ],
 "metadata": {
  "kernelspec": {
   "display_name": "cs231n",
   "language": "python",
   "name": "cs231n"
  },
  "language_info": {
   "codemirror_mode": {
    "name": "ipython",
    "version": 3
   },
   "file_extension": ".py",
   "mimetype": "text/x-python",
   "name": "python",
   "nbconvert_exporter": "python",
   "pygments_lexer": "ipython3",
   "version": "3.6.3"
  },
  "toc": {
   "base_numbering": 1,
   "nav_menu": {},
   "number_sections": true,
   "sideBar": true,
   "skip_h1_title": false,
   "title_cell": "Table of Contents",
   "title_sidebar": "Contents",
   "toc_cell": false,
   "toc_position": {},
   "toc_section_display": true,
   "toc_window_display": false
  }
 },
 "nbformat": 4,
 "nbformat_minor": 0
}
