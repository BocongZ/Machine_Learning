{
 "cells": [
  {
   "cell_type": "code",
   "execution_count": 6,
   "metadata": {
    "collapsed": true
   },
   "outputs": [],
   "source": [
    "import sys\n",
    "import os\n",
    "import random\n",
    "import collections\n",
    "import numpy as np\n",
    "import lightgbm as lgb\n",
    "import pandas as pd\n",
    "import subprocess, sys, os, time\n",
    "\n",
    "NR_THREAD = 1"
   ]
  },
  {
   "cell_type": "code",
   "execution_count": 8,
   "metadata": {
    "collapsed": false
   },
   "outputs": [
    {
     "name": "stdout",
     "output_type": "stream",
     "text": [
      "/media/data/cuixuange/Criteo_dataset/Origincode_and_bin/kaggle_criteo_ctr_challenge-/libffm/libffm/ffm-train --auto-stop -r 0.1 -t 32 -s 1 -p /media/data/cuixuange/Criteo_dataset/preprocess_data/valid_ffm.txt /media/data/cuixuange/Criteo_dataset/preprocess_data/train_ffm.txt model_ffm\n"
     ]
    },
    {
     "data": {
      "text/plain": [
       "['First check if the text file has already been converted to binary format (0.0 seconds)\\n',\n",
       " 'Binary file NOT found. Convert text file to binary file (15.8 seconds)\\n',\n",
       " 'First check if the text file has already been converted to binary format (0.0 seconds)\\n',\n",
       " 'Binary file NOT found. Convert text file to binary file (2.9 seconds)\\n',\n",
       " 'iter   tr_logloss   va_logloss      tr_time\\n',\n",
       " '   1      0.49360      0.48230         18.6\\n',\n",
       " '   2      0.47633      0.47664         34.2\\n',\n",
       " '   3      0.47157      0.47412         49.7\\n',\n",
       " '   4      0.46859      0.47267         64.8\\n',\n",
       " '   5      0.46629      0.47188         80.4\\n',\n",
       " '   6      0.46449      0.47109         96.2\\n',\n",
       " '   7      0.46275      0.47052        111.4\\n',\n",
       " '   8      0.46111      0.47014        126.7\\n',\n",
       " '   9      0.45957      0.46977        141.9\\n',\n",
       " '  10      0.45809      0.46951        157.4\\n',\n",
       " '  11      0.45652      0.46931        172.6\\n',\n",
       " '  12      0.45503      0.46921        187.1\\n',\n",
       " '  13      0.45354      0.46920        201.4\\n',\n",
       " '  14      0.45210      0.46923\\n',\n",
       " 'Auto-stop. Use model at 13th iteration.\\n']"
      ]
     },
     "execution_count": 8,
     "metadata": {},
     "output_type": "execute_result"
    }
   ],
   "source": [
    "# 数据准备好了，开始调用LibFFM，训练FFM模型。\n",
    "# learning rate是0.1，迭代32次，训练好后保存的模型文件是model_ffm。\n",
    "\n",
    "input_dir = \"/media/data/cuixuange/Criteo_dataset/preprocess_data/\"\n",
    "libffmDir = \"/media/data/cuixuange/Criteo_dataset/Origincode_and_bin/kaggle_criteo_ctr_challenge-/libffm/libffm/\"\n",
    "\n",
    "cmd = libffmDir + \"ffm-train --auto-stop -r 0.1 -t 32 -s {nr_thread} -p \".format(nr_thread=NR_THREAD) + \\\n",
    "input_dir + \"valid_ffm.txt \" + input_dir+\"train_ffm.txt model_ffm\"\n",
    "\n",
    "print(cmd)\n",
    "os.popen(cmd).readlines()"
   ]
  },
  {
   "cell_type": "code",
   "execution_count": 13,
   "metadata": {
    "collapsed": false
   },
   "outputs": [
    {
     "name": "stdout",
     "output_type": "stream",
     "text": [
      "/media/data/cuixuange/Criteo_dataset/Origincode_and_bin/kaggle_criteo_ctr_challenge-/libffm/libffm/ffm-train --auto-stop -r 0.1 -t 32 -s 1 -p /media/data/cuixuange/Criteo_dataset/preprocess_data/valid_ffm.txt /media/data/cuixuange/Criteo_dataset/preprocess_data/train_ffm.txt model_ffm tr_ffm.out\n"
     ]
    },
    {
     "data": {
      "text/plain": [
       "['cannot parse command\\n', '\\n']"
      ]
     },
     "execution_count": 13,
     "metadata": {},
     "output_type": "execute_result"
    }
   ],
   "source": [
    "\n",
    "# FFM模型训练好了，我们把训练、验证和测试数据输入给FFM，得到FFM层的输出，输出的文件名为*.out.logit\n",
    "\n",
    "cmd = libffmDir + \"ffm-predict \" + input_dir+\"train_ffm.txt model_ffm tr_ffm.out\"\n",
    "print(cmd)\n",
    "os.popen(cmd).readlines()\n",
    "\n",
    "cmd = libffmDir + \"ffm-predict  --auto-stop -r 0.1 -t 32 -s {nr_thread} -p \".format(nr_thread=NR_THREAD) + \\\n",
    "input_dir + \"valid_ffm.txt \" + input_dir+\"train_ffm.txt model_ffm va_ffm.out\"\n",
    "os.popen(cmd).readlines()\n",
    "\n",
    "cmd = libffmDir + \"ffm-predict  --auto-stop -r 0.1 -t 32 -s {nr_thread} -p \".format(nr_thread=NR_THREAD) + \\\n",
    "input_dir + \"valid_ffm.txt \" + input_dir+\"train_ffm.txt model_ffm te_ffm.out true\"\n",
    "os.popen(cmd).readlines()"
   ]
  }
 ],
 "metadata": {
  "kernelspec": {
   "display_name": "cs231n",
   "language": "python",
   "name": "cs231n"
  },
  "language_info": {
   "codemirror_mode": {
    "name": "ipython",
    "version": 3
   },
   "file_extension": ".py",
   "mimetype": "text/x-python",
   "name": "python",
   "nbconvert_exporter": "python",
   "pygments_lexer": "ipython3",
   "version": "3.6.3"
  },
  "toc": {
   "base_numbering": 1,
   "nav_menu": {},
   "number_sections": true,
   "sideBar": true,
   "skip_h1_title": false,
   "title_cell": "Table of Contents",
   "title_sidebar": "Contents",
   "toc_cell": false,
   "toc_position": {},
   "toc_section_display": true,
   "toc_window_display": false
  }
 },
 "nbformat": 4,
 "nbformat_minor": 0
}
