{
 "cells": [
  {
   "cell_type": "code",
   "execution_count": 3,
   "metadata": {},
   "outputs": [],
   "source": [
    "# import import_ipynb\n",
    "# import preprocess.save_params_with_name # preprocess重新加载一次 里面有写大文件的问题  不要这样\n",
    "import sys\n",
    "import os\n",
    "import random\n",
    "import collections\n",
    "import numpy as np\n",
    "import lightgbm as lgb\n",
    "import pandas as pd\n",
    "from sklearn.metrics import mean_squared_error#均方误差"
   ]
  },
  {
   "cell_type": "code",
   "execution_count": 4,
   "metadata": {},
   "outputs": [],
   "source": [
    "# GBDT\n",
    "# 因为决策树较容易过拟合，我们设置树的个数为32，叶子节点数设为30，深度就不设置了，学习率设为0.05"
   ]
  },
  {
   "cell_type": "code",
   "execution_count": 11,
   "metadata": {},
   "outputs": [],
   "source": [
    "def lgb_pred(tr_path, va_path, _sep = '\\t', iter_num = 32):\n",
    "    # load or create your dataset\n",
    "    print('Load data...')\n",
    "    df_train = pd.read_csv(tr_path, header=None, sep=_sep)\n",
    "    df_test = pd.read_csv(va_path, header=None, sep=_sep)\n",
    "    \n",
    "    y_train = df_train[0].values\n",
    "    y_test = df_test[0].values\n",
    "    X_train = df_train.drop(0, axis=1).values\n",
    "    X_test = df_test.drop(0, axis=1).values\n",
    "    \n",
    "    # create dataset for lightgbm\n",
    "    lgb_train = lgb.Dataset(X_train, y_train)\n",
    "    lgb_eval = lgb.Dataset(X_test, y_test, reference=lgb_train)\n",
    "    \n",
    "    # specify your configurations as a dict\n",
    "    params = {\n",
    "        'task': 'train',\n",
    "        'boosting_type': 'gbdt',\n",
    "        'objective': 'binary',         #选择二分类。logistic损失  默认regression\n",
    "        'metric': {'l2', 'auc', 'binary_logloss'},# 验证集的评估指标\n",
    "        'num_leaves': 30,   #叶子节点数目:默认31 ， 注: 树深度默认6\n",
    "#         'max_depth': 7,\n",
    "        'num_trees': 32,  #这是num_iterations,num_boost_round的别名 默认等于100。多分类问题会构建 num_class * numtrees颗树\n",
    "        'learning_rate': 0.05,\n",
    "        'feature_fraction': 0.9,  #特征采样比例\n",
    "        'bagging_fraction': 0.8,  #样本采样比例\n",
    "        'bagging_freq': 5,\n",
    "        'verbose': 0   #调试信息\n",
    "    }\n",
    "    \n",
    "    print('Start training...')\n",
    "    # train\n",
    "    # lightgbm支持指定类别特征（思考: 为什么类别的特征在决策树种是否可以按照数值形式处理？ https://www.jianshu.com/p/d07f0b0726da）\n",
    "    # e.g. 年龄类别特征 https://www.deeplearn.me/1625.html\n",
    "    gbm = lgb.train(params,\n",
    "                    lgb_train,\n",
    "                    num_boost_round=iter_num,   #核心参数\n",
    "                    valid_sets=lgb_eval,\n",
    "                    feature_name=[\"I1\",\"I2\",\"I3\",\"I4\",\"I5\",\"I6\",\"I7\",\"I8\",\"I9\",\"I10\",\"I11\",\"I12\",\"I13\",\"C1\",\"C2\",\"C3\",\"C4\",\"C5\",\"C6\",\"C7\",\"C8\",\"C9\",\"C10\",\"C11\",\"C12\",\"C13\",\"C14\",\"C15\",\"C16\",\"C17\",\"C18\",\"C19\",\"C20\",\"C21\",\"C22\",\"C23\",\"C24\",\"C25\",\"C26\"],\n",
    "                    categorical_feature=[\"C1\",\"C2\",\"C3\",\"C4\",\"C5\",\"C6\",\"C7\",\"C8\",\"C9\",\"C10\",\"C11\",\"C12\",\"C13\",\"C14\",\"C15\",\"C16\",\"C17\",\"C18\",\"C19\",\"C20\",\"C21\",\"C22\",\"C23\",\"C24\",\"C25\",\"C26\"],\n",
    "                    early_stopping_rounds=5)\n",
    "    \n",
    "    print('Save model...')\n",
    "    # save model to file\n",
    "    gbm.save_model('/media/data/cuixuange/Criteo_dataset/model/lgb_model.txt')\n",
    "    \n",
    "    print('Start predicting...')\n",
    "    # predict\n",
    "    y_pred = gbm.predict(X_test, num_iteration=gbm.best_iteration)\n",
    "    # eval\n",
    "    print('The rmse of prediction is:', mean_squared_error(y_test, y_pred) ** 0.5)\n",
    "\n",
    "    return gbm,y_pred,X_train,y_train"
   ]
  },
  {
   "cell_type": "code",
   "execution_count": 12,
   "metadata": {},
   "outputs": [
    {
     "name": "stdout",
     "output_type": "stream",
     "text": [
      "Load data...\n",
      "Start training..."
     ]
    },
    {
     "name": "stderr",
     "output_type": "stream",
     "text": [
      "/home/cuixuange/CS231N_ENV/lib/python3.6/site-packages/lightgbm/engine.py:118: UserWarning: Found `num_trees` in params. Will use it instead of argument\n",
      "  warnings.warn(\"Found `{}` in params. Will use it instead of argument\".format(alias))\n",
      "/home/cuixuange/CS231N_ENV/lib/python3.6/site-packages/lightgbm/basic.py:1209: UserWarning: categorical_feature in Dataset is overridden.\n",
      "New categorical_feature is ['C1', 'C10', 'C11', 'C12', 'C13', 'C14', 'C15', 'C16', 'C17', 'C18', 'C19', 'C2', 'C20', 'C21', 'C22', 'C23', 'C24', 'C25', 'C26', 'C3', 'C4', 'C5', 'C6', 'C7', 'C8', 'C9']\n",
      "  'New categorical_feature is {}'.format(sorted(list(categorical_feature))))\n",
      "/home/cuixuange/CS231N_ENV/lib/python3.6/site-packages/lightgbm/basic.py:762: UserWarning: categorical_feature in param dict is overridden.\n",
      "  warnings.warn('categorical_feature in param dict is overridden.')\n"
     ]
    },
    {
     "name": "stdout",
     "output_type": "stream",
     "text": [
      "\n",
      "[1]\tvalid_0's l2: 0.188062\tvalid_0's auc: 0.713479\tvalid_0's binary_logloss: 0.562619\n",
      "Training until validation scores don't improve for 5 rounds.\n",
      "[2]\tvalid_0's l2: 0.186005\tvalid_0's auc: 0.722179\tvalid_0's binary_logloss: 0.557344\n",
      "[3]\tvalid_0's l2: 0.184091\tvalid_0's auc: 0.725031\tvalid_0's binary_logloss: 0.552496\n",
      "[4]\tvalid_0's l2: 0.182378\tvalid_0's auc: 0.727246\tvalid_0's binary_logloss: 0.548207\n",
      "[5]\tvalid_0's l2: 0.180807\tvalid_0's auc: 0.72867\tvalid_0's binary_logloss: 0.544297\n",
      "[6]\tvalid_0's l2: 0.17934\tvalid_0's auc: 0.729812\tvalid_0's binary_logloss: 0.540666\n",
      "[7]\tvalid_0's l2: 0.177943\tvalid_0's auc: 0.732244\tvalid_0's binary_logloss: 0.537215\n",
      "[8]\tvalid_0's l2: 0.176701\tvalid_0's auc: 0.733889\tvalid_0's binary_logloss: 0.534151\n",
      "[9]\tvalid_0's l2: 0.17552\tvalid_0's auc: 0.735173\tvalid_0's binary_logloss: 0.531226\n",
      "[10]\tvalid_0's l2: 0.174417\tvalid_0's auc: 0.736101\tvalid_0's binary_logloss: 0.528507\n",
      "[11]\tvalid_0's l2: 0.173436\tvalid_0's auc: 0.736616\tvalid_0's binary_logloss: 0.526082\n",
      "[12]\tvalid_0's l2: 0.172533\tvalid_0's auc: 0.73759\tvalid_0's binary_logloss: 0.523848\n",
      "[13]\tvalid_0's l2: 0.171639\tvalid_0's auc: 0.739137\tvalid_0's binary_logloss: 0.521629\n",
      "[14]\tvalid_0's l2: 0.170799\tvalid_0's auc: 0.740322\tvalid_0's binary_logloss: 0.51953\n",
      "[15]\tvalid_0's l2: 0.169991\tvalid_0's auc: 0.741106\tvalid_0's binary_logloss: 0.51751\n",
      "[16]\tvalid_0's l2: 0.169283\tvalid_0's auc: 0.741922\tvalid_0's binary_logloss: 0.515737\n",
      "[17]\tvalid_0's l2: 0.1686\tvalid_0's auc: 0.742754\tvalid_0's binary_logloss: 0.514022\n",
      "[18]\tvalid_0's l2: 0.167972\tvalid_0's auc: 0.743531\tvalid_0's binary_logloss: 0.512428\n",
      "[19]\tvalid_0's l2: 0.167371\tvalid_0's auc: 0.744264\tvalid_0's binary_logloss: 0.510904\n",
      "[20]\tvalid_0's l2: 0.166808\tvalid_0's auc: 0.744808\tvalid_0's binary_logloss: 0.50945\n",
      "[21]\tvalid_0's l2: 0.16623\tvalid_0's auc: 0.746166\tvalid_0's binary_logloss: 0.507959\n",
      "[22]\tvalid_0's l2: 0.165737\tvalid_0's auc: 0.746768\tvalid_0's binary_logloss: 0.506681\n",
      "[23]\tvalid_0's l2: 0.165274\tvalid_0's auc: 0.74763\tvalid_0's binary_logloss: 0.505484\n",
      "[24]\tvalid_0's l2: 0.164797\tvalid_0's auc: 0.748663\tvalid_0's binary_logloss: 0.504234\n",
      "[25]\tvalid_0's l2: 0.16438\tvalid_0's auc: 0.749249\tvalid_0's binary_logloss: 0.503134\n",
      "[26]\tvalid_0's l2: 0.163997\tvalid_0's auc: 0.749778\tvalid_0's binary_logloss: 0.502112\n",
      "[27]\tvalid_0's l2: 0.163609\tvalid_0's auc: 0.750647\tvalid_0's binary_logloss: 0.501074\n",
      "[28]\tvalid_0's l2: 0.163239\tvalid_0's auc: 0.75142\tvalid_0's binary_logloss: 0.500081\n",
      "[29]\tvalid_0's l2: 0.162844\tvalid_0's auc: 0.752422\tvalid_0's binary_logloss: 0.499024\n",
      "[30]\tvalid_0's l2: 0.162519\tvalid_0's auc: 0.753041\tvalid_0's binary_logloss: 0.498138\n",
      "[31]\tvalid_0's l2: 0.162165\tvalid_0's auc: 0.753859\tvalid_0's binary_logloss: 0.497182\n",
      "[32]\tvalid_0's l2: 0.161869\tvalid_0's auc: 0.754248\tvalid_0's binary_logloss: 0.496384\n",
      "Did not meet early stopping. Best iteration is:\n",
      "[32]\tvalid_0's l2: 0.161869\tvalid_0's auc: 0.754248\tvalid_0's binary_logloss: 0.496384\n",
      "Save model...\n",
      "Start predicting...\n",
      "The rmse of prediction is: 0.402329154743\n"
     ]
    }
   ],
   "source": [
    "gbm,y_pred,X_train ,y_train = lgb_pred('/media/data/cuixuange/Criteo_dataset/preprocess_data/train_lgb.txt', '/media/data/cuixuange/Criteo_dataset/preprocess_data/valid_lgb.txt', '\\t', 256)"
   ]
  },
  {
   "cell_type": "code",
   "execution_count": 7,
   "metadata": {},
   "outputs": [
    {
     "data": {
      "text/plain": [
       "array([ 14,   0,  30,   9,  12,  70,  31,  14,  17,   0,  41,   0,  31,\n",
       "         0,  22,   1,  65,   0,   1,  35,   0,   0,  29,  23,  18, 128,\n",
       "        23, 159,  14,  14,  57,   2,   1,   2,   0,   8,  45,   0,  12])"
      ]
     },
     "execution_count": 7,
     "metadata": {},
     "output_type": "execute_result"
    }
   ],
   "source": [
    "\"\"\"\n",
    "查看每个特征的重要程度\n",
    "\"\"\"\n",
    "gbm.feature_importance()\n",
    "\n",
    "# gbm.feature_importance(\"gain\")"
   ]
  },
  {
   "cell_type": "code",
   "execution_count": 8,
   "metadata": {},
   "outputs": [
    {
     "data": {
      "text/plain": [
       "array([  90396.27114868,       0.        ,   20853.79501343,\n",
       "          4603.42703247,    9545.50097656,  195913.87060547,\n",
       "        104861.48678589,   15043.76608276,   14878.26693726,\n",
       "             0.        ,  204698.6499939 ,       0.        ,\n",
       "         32445.77528381,       0.        ,   11616.3949585 ,\n",
       "           386.50201416,   40623.47528076,       0.        ,\n",
       "           295.59899902,   14361.83802795,       0.        ,\n",
       "             0.        ,   12148.47796631,    9460.6890564 ,\n",
       "          9334.94799805,  121146.28167725,   24814.36785889,\n",
       "         90156.56433105,    7586.67001343,   22500.77676392,\n",
       "         38134.10675049,     654.42199707,     326.26000977,\n",
       "          1021.3789978 ,       0.        ,    4392.30096436,\n",
       "         22593.34103394,       0.        ,    6508.33892822])"
      ]
     },
     "execution_count": 8,
     "metadata": {},
     "output_type": "execute_result"
    }
   ],
   "source": [
    "gbm.feature_importance(\"gain\")"
   ]
  },
  {
   "cell_type": "code",
   "execution_count": 9,
   "metadata": {},
   "outputs": [
    {
     "data": {
      "text/plain": [
       "[array(['I11', '0.18094051872484868'],\n",
       "       dtype='<U32'), array(['I6', '0.17317533542015728'],\n",
       "       dtype='<U32'), array(['C13', '0.10708556724199762'],\n",
       "       dtype='<U32'), array(['I7', '0.0926908497631191'],\n",
       "       dtype='<U32'), array(['I1', '0.079904524006007'],\n",
       "       dtype='<U32'), array(['C15', '0.07969263850542067'],\n",
       "       dtype='<U32'), array(['C4', '0.0359085547947007'],\n",
       "       dtype='<U32'), array(['C18', '0.033708112177329164'],\n",
       "       dtype='<U32'), array(['I13', '0.0286799908570874'],\n",
       "       dtype='<U32'), array(['C14', '0.021934314624693675'],\n",
       "       dtype='<U32'), array(['C24', '0.019971068917795015'],\n",
       "       dtype='<U32'), array(['C17', '0.019889248021403072'],\n",
       "       dtype='<U32'), array(['I3', '0.018433421457463375'],\n",
       "       dtype='<U32'), array(['I8', '0.013297727360056875'],\n",
       "       dtype='<U32'), array(['I9', '0.013151436696989016'],\n",
       "       dtype='<U32'), array(['C7', '0.012694946560213059'],\n",
       "       dtype='<U32'), array(['C10', '0.010738477781884805'],\n",
       "       dtype='<U32'), array(['C2', '0.010268150422905437'],\n",
       "       dtype='<U32'), array(['I5', '0.008437612550152468'],\n",
       "       dtype='<U32'), array(['C11', '0.008362644235367065'],\n",
       "       dtype='<U32'), array(['C12', '0.008251497179324106'],\n",
       "       dtype='<U32'), array(['C16', '0.0067061312210158685'],\n",
       "       dtype='<U32'), array(['C26', '0.0057529554872240065'],\n",
       "       dtype='<U32'), array(['I4', '0.00406913516621666'],\n",
       "       dtype='<U32'), array(['C23', '0.003882513220824019'],\n",
       "       dtype='<U32'), array(['C21', '0.0009028337298883178'],\n",
       "       dtype='<U32'), array(['C19', '0.0005784672034641383'],\n",
       "       dtype='<U32'), array(['C3', '0.00034164306863979175'],\n",
       "       dtype='<U32'), array(['C20', '0.00028839298846341485'],\n",
       "       dtype='<U32'), array(['C6', '0.00026129061534817943'],\n",
       "       dtype='<U32'), array(['I2', '0.0'],\n",
       "       dtype='<U32'), array(['I10', '0.0'],\n",
       "       dtype='<U32'), array(['I12', '0.0'],\n",
       "       dtype='<U32'), array(['C1', '0.0'],\n",
       "       dtype='<U32'), array(['C5', '0.0'],\n",
       "       dtype='<U32'), array(['C8', '0.0'],\n",
       "       dtype='<U32'), array(['C9', '0.0'],\n",
       "       dtype='<U32'), array(['C22', '0.0'],\n",
       "       dtype='<U32'), array(['C25', '0.0'],\n",
       "       dtype='<U32')]"
      ]
     },
     "execution_count": 9,
     "metadata": {},
     "output_type": "execute_result"
    }
   ],
   "source": [
    "def ret_feat_impt(gbm):\n",
    "    \"\"\"\n",
    "    特征的重要性排序\n",
    "    \"\"\"\n",
    "    gain = gbm.feature_importance(\"gain\").reshape(-1, 1) / sum(gbm.feature_importance(\"gain\"))\n",
    "    col = np.array(gbm.feature_name()).reshape(-1, 1)\n",
    "    return sorted(np.column_stack((col, gain)),key=lambda x: x[1],reverse=True)\n",
    "\n",
    "\n",
    "ret_feat_impt(gbm)"
   ]
  },
  {
   "cell_type": "code",
   "execution_count": 10,
   "metadata": {},
   "outputs": [],
   "source": [
    "\"\"\"GBDT 模型参数的保存\"\"\"\n",
    "import pickle\n",
    "dump = gbm.dump_model()\n",
    "# save_params_with_name((gbm, dump), '/media/data/cuixuange/Criteo_dataset/model/gbm_dump')     #使用pickle序列化保存\n",
    "# gbm, dump = load_params_with_name('gbm_dump')\n",
    "\n",
    "\n",
    "#pickle是一种数据压缩方式\n",
    "#这里选择保存obj=(model,parameter)\n",
    "pickle.dump((gbm, dump), open('{}.p'.format('/media/data/cuixuange/Criteo_dataset/model/gbm_dump'), 'wb'))\n",
    "    "
   ]
  }
 ],
 "metadata": {
  "kernelspec": {
   "display_name": "cs231n",
   "language": "python",
   "name": "cs231n"
  },
  "language_info": {
   "codemirror_mode": {
    "name": "ipython",
    "version": 3
   },
   "file_extension": ".py",
   "mimetype": "text/x-python",
   "name": "python",
   "nbconvert_exporter": "python",
   "pygments_lexer": "ipython3",
   "version": "3.6.3"
  },
  "toc": {
   "base_numbering": 1,
   "nav_menu": {},
   "number_sections": true,
   "sideBar": true,
   "skip_h1_title": false,
   "title_cell": "Table of Contents",
   "title_sidebar": "Contents",
   "toc_cell": false,
   "toc_position": {},
   "toc_section_display": true,
   "toc_window_display": false
  }
 },
 "nbformat": 4,
 "nbformat_minor": 1
}
